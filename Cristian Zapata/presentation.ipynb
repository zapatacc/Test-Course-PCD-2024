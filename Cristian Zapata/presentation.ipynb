{
 "cells": [
  {
   "cell_type": "markdown",
   "source": [
    "## Presentation\n",
    "\n",
    "Hi, my name is Camilo Zapata and I'm Data Scientist :D\n",
    "\n"
   ],
   "metadata": {
    "collapsed": false
   },
   "id": "3668fed16386657f"
  }
 ],
 "metadata": {
  "kernelspec": {
   "display_name": "Python 3",
   "language": "python",
   "name": "python3"
  },
  "language_info": {
   "codemirror_mode": {
    "name": "ipython",
    "version": 2
   },
   "file_extension": ".py",
   "mimetype": "text/x-python",
   "name": "python",
   "nbconvert_exporter": "python",
   "pygments_lexer": "ipython2",
   "version": "2.7.6"
  }
 },
 "nbformat": 4,
 "nbformat_minor": 5
}
